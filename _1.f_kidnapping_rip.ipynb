{
 "cells": [
  {
   "attachments": {},
   "cell_type": "markdown",
   "metadata": {},
   "source": [
    "# scanning all files for relevant information\n",
    "\n",
    "we need to build a baseline to determin who has been kidnapped, to do this, we are going to scrape the articles provided to find out who has been mentioned in the context of the kidnapping. this will help us first and foremost establish who the victims are. once we have determined that information, we can begin to use other sources to determine who runs in their circles."
   ]
  },
  {
   "attachments": {},
   "cell_type": "markdown",
   "metadata": {},
   "source": [
    "### import statements\n",
    "\n",
    "to find out where to look first we are going to be leaning on NLTK to help us find the standout articles relative to kidnapping and the individuals associated within those articles."
   ]
  },
  {
   "cell_type": "code",
   "execution_count": 25,
   "metadata": {},
   "outputs": [
    {
     "name": "stderr",
     "output_type": "stream",
     "text": [
      "[nltk_data] Downloading package punkt to\n",
      "[nltk_data]     C:\\Users\\andyt\\AppData\\Roaming\\nltk_data...\n",
      "[nltk_data]   Package punkt is already up-to-date!\n",
      "[nltk_data] Downloading package averaged_perceptron_tagger to\n",
      "[nltk_data]     C:\\Users\\andyt\\AppData\\Roaming\\nltk_data...\n",
      "[nltk_data]   Package averaged_perceptron_tagger is already up-to-\n",
      "[nltk_data]       date!\n",
      "[nltk_data] Downloading package maxent_ne_chunker to\n",
      "[nltk_data]     C:\\Users\\andyt\\AppData\\Roaming\\nltk_data...\n",
      "[nltk_data]   Package maxent_ne_chunker is already up-to-date!\n",
      "[nltk_data] Downloading package words to\n",
      "[nltk_data]     C:\\Users\\andyt\\AppData\\Roaming\\nltk_data...\n",
      "[nltk_data]   Package words is already up-to-date!\n"
     ]
    }
   ],
   "source": [
    "import nltk\n",
    "nltk.download('punkt')\n",
    "nltk.download('averaged_perceptron_tagger')\n",
    "nltk.download('maxent_ne_chunker')\n",
    "nltk.download('words')\n",
    "import os\n",
    "from collections import Counter"
   ]
  },
  {
   "attachments": {},
   "cell_type": "markdown",
   "metadata": {},
   "source": [
    "### function definition\n",
    "\n",
    "we're going to functionalize these operations because we might want to perform them a couple times with modified parameters to get the best slice of the available data.\n",
    "\n",
    "this information also includes a list of additional stopwords to ignore in the scanning, this list was updated iteratively over scans of the information."
   ]
  },
  {
   "cell_type": "code",
   "execution_count": 26,
   "metadata": {},
   "outputs": [],
   "source": [
    "def search_for_terms(folder_path, terms, ignore_names):\n",
    "    entities = []\n",
    "    for filename in os.listdir(folder_path):\n",
    "        if filename.endswith(\".txt\"):\n",
    "            file_path = os.path.join(folder_path, filename)\n",
    "            with open(file_path, \"r\") as file:\n",
    "                full_text = file.read()\n",
    "            tokenized_text = nltk.word_tokenize(full_text)\n",
    "            tagged_text = nltk.pos_tag(tokenized_text)\n",
    "            named_entities = nltk.ne_chunk(tagged_text)\n",
    "            for entity in named_entities:\n",
    "                if type(entity) == nltk.tree.Tree:\n",
    "                    if entity.label() == 'PERSON':\n",
    "                        name = ' '.join([word for word, tag in entity.leaves()])\n",
    "                        if name not in ignore_names and terms[0] in full_text and name in full_text:\n",
    "                            print(f\"Found {terms[0]} and name '{name}' in document: {file_path}\")\n",
    "                            entities.append(name)\n",
    "    return entities\n",
    "\n",
    "\n",
    "def count_elements(list):\n",
    "    count = Counter(list)\n",
    "    for element, frequency in sorted(count.items(), key=lambda x: x[1], reverse=True):\n",
    "        print(f\"{element}: {frequency}\")\n",
    "\n",
    "\n",
    "stop_words = ['Abila', 'Tethys', 'Kronos', 'Online', 'Currently', 'Tethyn', 'Jr', 'Ngohebo', 'Haneson Ngohebo' 'Carmen', 'Adrien Carmen']"
   ]
  },
  {
   "attachments": {},
   "cell_type": "markdown",
   "metadata": {},
   "source": [
    "### first pass\n",
    "\n",
    "we think its a kidnapping! so lets take a look for any names associated with kidnapping first\n",
    "\n",
    "note: we worked on this in a few different environments, so feel free to replace the except statement with whatever path makes sense for your data"
   ]
  },
  {
   "cell_type": "code",
   "execution_count": 27,
   "metadata": {},
   "outputs": [
    {
     "name": "stdout",
     "output_type": "stream",
     "text": [
      "Found kidnapping and name 'Edvard Vann' in document: C:/Users/andyt/PycharmProjects/classworker_General/The_Last_Stand/TP-1_Kronos/articles\\107.txt\n",
      "Found kidnapping and name 'Avila' in document: C:/Users/andyt/PycharmProjects/classworker_General/The_Last_Stand/TP-1_Kronos/articles\\107.txt\n",
      "Found kidnapping and name 'Athena' in document: C:/Users/andyt/PycharmProjects/classworker_General/The_Last_Stand/TP-1_Kronos/articles\\140.txt\n",
      "Found kidnapping and name 'Tethan' in document: C:/Users/andyt/PycharmProjects/classworker_General/The_Last_Stand/TP-1_Kronos/articles\\140.txt\n",
      "Found kidnapping and name 'Sten St. George' in document: C:/Users/andyt/PycharmProjects/classworker_General/The_Last_Stand/TP-1_Kronos/articles\\140.txt\n",
      "Found kidnapping and name 'Edvard Vann' in document: C:/Users/andyt/PycharmProjects/classworker_General/The_Last_Stand/TP-1_Kronos/articles\\140.txt\n",
      "Found kidnapping and name 'Edvard Vann' in document: C:/Users/andyt/PycharmProjects/classworker_General/The_Last_Stand/TP-1_Kronos/articles\\145.txt\n",
      "Found kidnapping and name 'Vann' in document: C:/Users/andyt/PycharmProjects/classworker_General/The_Last_Stand/TP-1_Kronos/articles\\145.txt\n",
      "Found kidnapping and name 'Sanjorge' in document: C:/Users/andyt/PycharmProjects/classworker_General/The_Last_Stand/TP-1_Kronos/articles\\167.txt\n",
      "Found kidnapping and name 'John Rathburn' in document: C:/Users/andyt/PycharmProjects/classworker_General/The_Last_Stand/TP-1_Kronos/articles\\167.txt\n",
      "Found kidnapping and name 'Haneson Ngohebo' in document: C:/Users/andyt/PycharmProjects/classworker_General/The_Last_Stand/TP-1_Kronos/articles\\169.txt\n",
      "Found kidnapping and name 'Haneson Ngohebo' in document: C:/Users/andyt/PycharmProjects/classworker_General/The_Last_Stand/TP-1_Kronos/articles\\261.txt\n",
      "Found kidnapping and name 'Worldwise' in document: C:/Users/andyt/PycharmProjects/classworker_General/The_Last_Stand/TP-1_Kronos/articles\\274.txt\n",
      "Found kidnapping and name 'Carman' in document: C:/Users/andyt/PycharmProjects/classworker_General/The_Last_Stand/TP-1_Kronos/articles\\274.txt\n",
      "Found kidnapping and name 'Adrien Tethyn' in document: C:/Users/andyt/PycharmProjects/classworker_General/The_Last_Stand/TP-1_Kronos/articles\\274.txt\n",
      "Found kidnapping and name 'Adrien Carman' in document: C:/Users/andyt/PycharmProjects/classworker_General/The_Last_Stand/TP-1_Kronos/articles\\276.txt\n",
      "Found kidnapping and name 'Edvard Vann' in document: C:/Users/andyt/PycharmProjects/classworker_General/The_Last_Stand/TP-1_Kronos/articles\\29.txt\n",
      "Found kidnapping and name 'Vann' in document: C:/Users/andyt/PycharmProjects/classworker_General/The_Last_Stand/TP-1_Kronos/articles\\29.txt\n",
      "Found kidnapping and name 'Rossini' in document: C:/Users/andyt/PycharmProjects/classworker_General/The_Last_Stand/TP-1_Kronos/articles\\298.txt\n",
      "Found kidnapping and name 'Marcella Trapani' in document: C:/Users/andyt/PycharmProjects/classworker_General/The_Last_Stand/TP-1_Kronos/articles\\298.txt\n",
      "Found kidnapping and name 'Sanjorge' in document: C:/Users/andyt/PycharmProjects/classworker_General/The_Last_Stand/TP-1_Kronos/articles\\310.txt\n",
      "Found kidnapping and name 'Tethan' in document: C:/Users/andyt/PycharmProjects/classworker_General/The_Last_Stand/TP-1_Kronos/articles\\326.txt\n",
      "Found kidnapping and name 'Edvard Vann' in document: C:/Users/andyt/PycharmProjects/classworker_General/The_Last_Stand/TP-1_Kronos/articles\\326.txt\n",
      "Found kidnapping and name 'Abila Fire' in document: C:/Users/andyt/PycharmProjects/classworker_General/The_Last_Stand/TP-1_Kronos/articles\\326.txt\n",
      "Found kidnapping and name 'Sanjorge Escapes Kidnapping' in document: C:/Users/andyt/PycharmProjects/classworker_General/The_Last_Stand/TP-1_Kronos/articles\\344.txt\n",
      "Found kidnapping and name 'Sten Sanjorge' in document: C:/Users/andyt/PycharmProjects/classworker_General/The_Last_Stand/TP-1_Kronos/articles\\344.txt\n",
      "Found kidnapping and name 'Sanjorge' in document: C:/Users/andyt/PycharmProjects/classworker_General/The_Last_Stand/TP-1_Kronos/articles\\344.txt\n",
      "Found kidnapping and name 'Rossini' in document: C:/Users/andyt/PycharmProjects/classworker_General/The_Last_Stand/TP-1_Kronos/articles\\359.txt\n",
      "Found kidnapping and name 'Marcella Trapani' in document: C:/Users/andyt/PycharmProjects/classworker_General/The_Last_Stand/TP-1_Kronos/articles\\359.txt\n",
      "Found kidnapping and name 'Carman' in document: C:/Users/andyt/PycharmProjects/classworker_General/The_Last_Stand/TP-1_Kronos/articles\\372.txt\n",
      "Found kidnapping and name 'Adrien Tethyn' in document: C:/Users/andyt/PycharmProjects/classworker_General/The_Last_Stand/TP-1_Kronos/articles\\372.txt\n",
      "Found kidnapping and name 'Disappeared' in document: C:/Users/andyt/PycharmProjects/classworker_General/The_Last_Stand/TP-1_Kronos/articles\\396.txt\n",
      "Found kidnapping and name 'Sten Sanjorge Jr' in document: C:/Users/andyt/PycharmProjects/classworker_General/The_Last_Stand/TP-1_Kronos/articles\\396.txt\n",
      "Found kidnapping and name 'Willem' in document: C:/Users/andyt/PycharmProjects/classworker_General/The_Last_Stand/TP-1_Kronos/articles\\396.txt\n",
      "Found kidnapping and name 'Sanjorge' in document: C:/Users/andyt/PycharmProjects/classworker_General/The_Last_Stand/TP-1_Kronos/articles\\396.txt\n",
      "Found kidnapping and name 'John Rathburn' in document: C:/Users/andyt/PycharmProjects/classworker_General/The_Last_Stand/TP-1_Kronos/articles\\396.txt\n",
      "Found kidnapping and name 'Tethan' in document: C:/Users/andyt/PycharmProjects/classworker_General/The_Last_Stand/TP-1_Kronos/articles\\397.txt\n",
      "Found kidnapping and name 'Edvard Vann' in document: C:/Users/andyt/PycharmProjects/classworker_General/The_Last_Stand/TP-1_Kronos/articles\\397.txt\n",
      "Found kidnapping and name 'Edvard Vann' in document: C:/Users/andyt/PycharmProjects/classworker_General/The_Last_Stand/TP-1_Kronos/articles\\400.txt\n",
      "Found kidnapping and name 'Vann' in document: C:/Users/andyt/PycharmProjects/classworker_General/The_Last_Stand/TP-1_Kronos/articles\\400.txt\n",
      "Found kidnapping and name 'Edvard Vann' in document: C:/Users/andyt/PycharmProjects/classworker_General/The_Last_Stand/TP-1_Kronos/articles\\431.txt\n",
      "Found kidnapping and name 'Orhan' in document: C:/Users/andyt/PycharmProjects/classworker_General/The_Last_Stand/TP-1_Kronos/articles\\460.txt\n",
      "Found kidnapping and name 'Willem' in document: C:/Users/andyt/PycharmProjects/classworker_General/The_Last_Stand/TP-1_Kronos/articles\\460.txt\n",
      "Found kidnapping and name 'Sanjorge' in document: C:/Users/andyt/PycharmProjects/classworker_General/The_Last_Stand/TP-1_Kronos/articles\\460.txt\n",
      "Found kidnapping and name 'Juan Rathburn' in document: C:/Users/andyt/PycharmProjects/classworker_General/The_Last_Stand/TP-1_Kronos/articles\\460.txt\n",
      "Found kidnapping and name 'Edvard Vann' in document: C:/Users/andyt/PycharmProjects/classworker_General/The_Last_Stand/TP-1_Kronos/articles\\461.txt\n",
      "Found kidnapping and name 'Vann' in document: C:/Users/andyt/PycharmProjects/classworker_General/The_Last_Stand/TP-1_Kronos/articles\\461.txt\n",
      "Found kidnapping and name 'Sten Sanjorge' in document: C:/Users/andyt/PycharmProjects/classworker_General/The_Last_Stand/TP-1_Kronos/articles\\463.txt\n",
      "Found kidnapping and name 'Sanjorge' in document: C:/Users/andyt/PycharmProjects/classworker_General/The_Last_Stand/TP-1_Kronos/articles\\463.txt\n",
      "Found kidnapping and name 'Sanjorge' in document: C:/Users/andyt/PycharmProjects/classworker_General/The_Last_Stand/TP-1_Kronos/articles\\463.txt\n",
      "Found kidnapping and name 'Kapelou' in document: C:/Users/andyt/PycharmProjects/classworker_General/The_Last_Stand/TP-1_Kronos/articles\\463.txt\n",
      "Found kidnapping and name 'Edvard Vann' in document: C:/Users/andyt/PycharmProjects/classworker_General/The_Last_Stand/TP-1_Kronos/articles\\469.txt\n",
      "Found kidnapping and name 'Abila Fire' in document: C:/Users/andyt/PycharmProjects/classworker_General/The_Last_Stand/TP-1_Kronos/articles\\469.txt\n",
      "Found kidnapping and name 'Sanjorge Escapes Kidnapping' in document: C:/Users/andyt/PycharmProjects/classworker_General/The_Last_Stand/TP-1_Kronos/articles\\481.txt\n",
      "Found kidnapping and name 'Sten Sanjorge' in document: C:/Users/andyt/PycharmProjects/classworker_General/The_Last_Stand/TP-1_Kronos/articles\\481.txt\n",
      "Found kidnapping and name 'Sanjorge' in document: C:/Users/andyt/PycharmProjects/classworker_General/The_Last_Stand/TP-1_Kronos/articles\\481.txt\n",
      "Found kidnapping and name 'Sanjorge' in document: C:/Users/andyt/PycharmProjects/classworker_General/The_Last_Stand/TP-1_Kronos/articles\\481.txt\n",
      "Found kidnapping and name 'Kapelou' in document: C:/Users/andyt/PycharmProjects/classworker_General/The_Last_Stand/TP-1_Kronos/articles\\481.txt\n",
      "Found kidnapping and name 'Edvard Vann' in document: C:/Users/andyt/PycharmProjects/classworker_General/The_Last_Stand/TP-1_Kronos/articles\\49.txt\n",
      "Found kidnapping and name 'Abila Fire' in document: C:/Users/andyt/PycharmProjects/classworker_General/The_Last_Stand/TP-1_Kronos/articles\\49.txt\n",
      "Found kidnapping and name 'Sten Sanjorge' in document: C:/Users/andyt/PycharmProjects/classworker_General/The_Last_Stand/TP-1_Kronos/articles\\494.txt\n",
      "Found kidnapping and name 'Edvard Vann' in document: C:/Users/andyt/PycharmProjects/classworker_General/The_Last_Stand/TP-1_Kronos/articles\\494.txt\n",
      "Found kidnapping and name 'Athena' in document: C:/Users/andyt/PycharmProjects/classworker_General/The_Last_Stand/TP-1_Kronos/articles\\516.txt\n",
      "Found kidnapping and name 'Speaks' in document: C:/Users/andyt/PycharmProjects/classworker_General/The_Last_Stand/TP-1_Kronos/articles\\516.txt\n",
      "Found kidnapping and name 'Rossini' in document: C:/Users/andyt/PycharmProjects/classworker_General/The_Last_Stand/TP-1_Kronos/articles\\518.txt\n",
      "Found kidnapping and name 'Marcella Trapani' in document: C:/Users/andyt/PycharmProjects/classworker_General/The_Last_Stand/TP-1_Kronos/articles\\518.txt\n",
      "Found kidnapping and name 'Haneson Ngohebo' in document: C:/Users/andyt/PycharmProjects/classworker_General/The_Last_Stand/TP-1_Kronos/articles\\53.txt\n",
      "Found kidnapping and name 'Sanjorge' in document: C:/Users/andyt/PycharmProjects/classworker_General/The_Last_Stand/TP-1_Kronos/articles\\536.txt\n",
      "Found kidnapping and name 'Sanjorge' in document: C:/Users/andyt/PycharmProjects/classworker_General/The_Last_Stand/TP-1_Kronos/articles\\536.txt\n",
      "Found kidnapping and name 'Avila' in document: C:/Users/andyt/PycharmProjects/classworker_General/The_Last_Stand/TP-1_Kronos/articles\\536.txt\n",
      "Found kidnapping and name 'Haneson Ngohebo' in document: C:/Users/andyt/PycharmProjects/classworker_General/The_Last_Stand/TP-1_Kronos/articles\\555.txt\n",
      "Found kidnapping and name 'Worldwise' in document: C:/Users/andyt/PycharmProjects/classworker_General/The_Last_Stand/TP-1_Kronos/articles\\594.txt\n",
      "Found kidnapping and name 'Edvard Vann' in document: C:/Users/andyt/PycharmProjects/classworker_General/The_Last_Stand/TP-1_Kronos/articles\\594.txt\n",
      "Found kidnapping and name 'Vann' in document: C:/Users/andyt/PycharmProjects/classworker_General/The_Last_Stand/TP-1_Kronos/articles\\594.txt\n",
      "Found kidnapping and name 'Civils' in document: C:/Users/andyt/PycharmProjects/classworker_General/The_Last_Stand/TP-1_Kronos/articles\\594.txt\n",
      "Found kidnapping and name 'John Rathburn' in document: C:/Users/andyt/PycharmProjects/classworker_General/The_Last_Stand/TP-1_Kronos/articles\\598.txt\n",
      "Found kidnapping and name 'Edvard Vann' in document: C:/Users/andyt/PycharmProjects/classworker_General/The_Last_Stand/TP-1_Kronos/articles\\607.txt\n",
      "Found kidnapping and name 'Vann' in document: C:/Users/andyt/PycharmProjects/classworker_General/The_Last_Stand/TP-1_Kronos/articles\\607.txt\n",
      "Found kidnapping and name 'Sten Sanjorge' in document: C:/Users/andyt/PycharmProjects/classworker_General/The_Last_Stand/TP-1_Kronos/articles\\62.txt\n",
      "Found kidnapping and name 'Sanjorge' in document: C:/Users/andyt/PycharmProjects/classworker_General/The_Last_Stand/TP-1_Kronos/articles\\62.txt\n",
      "Found kidnapping and name 'Sanjorge' in document: C:/Users/andyt/PycharmProjects/classworker_General/The_Last_Stand/TP-1_Kronos/articles\\62.txt\n",
      "Found kidnapping and name 'Kapelou' in document: C:/Users/andyt/PycharmProjects/classworker_General/The_Last_Stand/TP-1_Kronos/articles\\62.txt\n",
      "Found kidnapping and name 'Rossini' in document: C:/Users/andyt/PycharmProjects/classworker_General/The_Last_Stand/TP-1_Kronos/articles\\678.txt\n",
      "Found kidnapping and name 'Marcella Trapani' in document: C:/Users/andyt/PycharmProjects/classworker_General/The_Last_Stand/TP-1_Kronos/articles\\678.txt\n",
      "Found kidnapping and name 'Carman' in document: C:/Users/andyt/PycharmProjects/classworker_General/The_Last_Stand/TP-1_Kronos/articles\\678.txt\n",
      "Found kidnapping and name 'Carman' in document: C:/Users/andyt/PycharmProjects/classworker_General/The_Last_Stand/TP-1_Kronos/articles\\678.txt\n",
      "Found kidnapping and name 'Sanjorge Escapes Kidnapping' in document: C:/Users/andyt/PycharmProjects/classworker_General/The_Last_Stand/TP-1_Kronos/articles\\689.txt\n",
      "Found kidnapping and name 'Sten Sanjorge' in document: C:/Users/andyt/PycharmProjects/classworker_General/The_Last_Stand/TP-1_Kronos/articles\\689.txt\n",
      "Found kidnapping and name 'Sanjorge' in document: C:/Users/andyt/PycharmProjects/classworker_General/The_Last_Stand/TP-1_Kronos/articles\\689.txt\n",
      "Found kidnapping and name 'Sanjorge' in document: C:/Users/andyt/PycharmProjects/classworker_General/The_Last_Stand/TP-1_Kronos/articles\\689.txt\n",
      "Found kidnapping and name 'Kapelou' in document: C:/Users/andyt/PycharmProjects/classworker_General/The_Last_Stand/TP-1_Kronos/articles\\689.txt\n",
      "Found kidnapping and name 'Star' in document: C:/Users/andyt/PycharmProjects/classworker_General/The_Last_Stand/TP-1_Kronos/articles\\693.txt\n",
      "Found kidnapping and name 'Adrien Carman' in document: C:/Users/andyt/PycharmProjects/classworker_General/The_Last_Stand/TP-1_Kronos/articles\\693.txt\n",
      "Found kidnapping and name 'Nobody' in document: C:/Users/andyt/PycharmProjects/classworker_General/The_Last_Stand/TP-1_Kronos/articles\\715.txt\n",
      "Found kidnapping and name 'Worldwise' in document: C:/Users/andyt/PycharmProjects/classworker_General/The_Last_Stand/TP-1_Kronos/articles\\752.txt\n",
      "Found kidnapping and name 'Sten Sanjorge' in document: C:/Users/andyt/PycharmProjects/classworker_General/The_Last_Stand/TP-1_Kronos/articles\\752.txt\n",
      "Found kidnapping and name 'Sanjorge' in document: C:/Users/andyt/PycharmProjects/classworker_General/The_Last_Stand/TP-1_Kronos/articles\\752.txt\n",
      "Found kidnapping and name 'Sanjorge' in document: C:/Users/andyt/PycharmProjects/classworker_General/The_Last_Stand/TP-1_Kronos/articles\\752.txt\n",
      "Found kidnapping and name 'Kapelou' in document: C:/Users/andyt/PycharmProjects/classworker_General/The_Last_Stand/TP-1_Kronos/articles\\752.txt\n",
      "Found kidnapping and name 'Adrien' in document: C:/Users/andyt/PycharmProjects/classworker_General/The_Last_Stand/TP-1_Kronos/articles\\76.txt\n",
      "Found kidnapping and name 'Carman' in document: C:/Users/andyt/PycharmProjects/classworker_General/The_Last_Stand/TP-1_Kronos/articles\\76.txt\n",
      "Found kidnapping and name 'Rossini' in document: C:/Users/andyt/PycharmProjects/classworker_General/The_Last_Stand/TP-1_Kronos/articles\\761.txt\n",
      "Found kidnapping and name 'Marcella Trapani' in document: C:/Users/andyt/PycharmProjects/classworker_General/The_Last_Stand/TP-1_Kronos/articles\\761.txt\n",
      "Found kidnapping and name 'Edvard Vann' in document: C:/Users/andyt/PycharmProjects/classworker_General/The_Last_Stand/TP-1_Kronos/articles\\761.txt\n",
      "Found kidnapping and name 'Vann' in document: C:/Users/andyt/PycharmProjects/classworker_General/The_Last_Stand/TP-1_Kronos/articles\\761.txt\n",
      "Found kidnapping and name 'Rossini' in document: C:/Users/andyt/PycharmProjects/classworker_General/The_Last_Stand/TP-1_Kronos/articles\\776.txt\n",
      "Found kidnapping and name 'Marcella Trapani' in document: C:/Users/andyt/PycharmProjects/classworker_General/The_Last_Stand/TP-1_Kronos/articles\\776.txt\n",
      "Found kidnapping and name 'Adrien Carman' in document: C:/Users/andyt/PycharmProjects/classworker_General/The_Last_Stand/TP-1_Kronos/articles\\776.txt\n",
      "Found kidnapping and name 'Carman' in document: C:/Users/andyt/PycharmProjects/classworker_General/The_Last_Stand/TP-1_Kronos/articles\\776.txt\n",
      "Found kidnapping and name 'John Rathburn' in document: C:/Users/andyt/PycharmProjects/classworker_General/The_Last_Stand/TP-1_Kronos/articles\\787.txt\n",
      "Found kidnapping and name 'Sten Sanjorge' in document: C:/Users/andyt/PycharmProjects/classworker_General/The_Last_Stand/TP-1_Kronos/articles\\822.txt\n",
      "Found kidnapping and name 'Sanjorge' in document: C:/Users/andyt/PycharmProjects/classworker_General/The_Last_Stand/TP-1_Kronos/articles\\822.txt\n",
      "Found kidnapping and name 'Sanjorge' in document: C:/Users/andyt/PycharmProjects/classworker_General/The_Last_Stand/TP-1_Kronos/articles\\822.txt\n",
      "Found kidnapping and name 'Sanjorge' in document: C:/Users/andyt/PycharmProjects/classworker_General/The_Last_Stand/TP-1_Kronos/articles\\824.txt\n",
      "Found kidnapping and name 'Sanjorge' in document: C:/Users/andyt/PycharmProjects/classworker_General/The_Last_Stand/TP-1_Kronos/articles\\824.txt\n"
     ]
    }
   ],
   "source": [
    "try: \n",
    "    folder_path = \"C:/Users/Andy/PycharmProjects/pythonProject/The_Last_Stand/TP-1_Kronos/articles\"\n",
    "    sus = search_for_terms(folder_path, [\"kidnapping\", \"name\"], stop_words)    \n",
    "except: \n",
    "    folder_path = \"C:/Users/andyt/PycharmProjects/classworker_General/The_Last_Stand/TP-1_Kronos/articles\"\n",
    "    sus = search_for_terms(folder_path, [\"kidnapping\", \"name\"], stop_words)\n"
   ]
  },
  {
   "cell_type": "code",
   "execution_count": 28,
   "metadata": {},
   "outputs": [
    {
     "name": "stdout",
     "output_type": "stream",
     "text": [
      "Sanjorge: 21\n",
      "Edvard Vann: 15\n",
      "Sten Sanjorge: 8\n",
      "Vann: 7\n",
      "Carman: 6\n",
      "Rossini: 6\n",
      "Marcella Trapani: 6\n",
      "Kapelou: 5\n",
      "John Rathburn: 4\n",
      "Haneson Ngohebo: 4\n",
      "Tethan: 3\n",
      "Worldwise: 3\n",
      "Adrien Carman: 3\n",
      "Abila Fire: 3\n",
      "Sanjorge Escapes Kidnapping: 3\n",
      "Avila: 2\n",
      "Athena: 2\n",
      "Adrien Tethyn: 2\n",
      "Willem: 2\n",
      "Sten St. George: 1\n",
      "Disappeared: 1\n",
      "Sten Sanjorge Jr: 1\n",
      "Orhan: 1\n",
      "Juan Rathburn: 1\n",
      "Speaks: 1\n",
      "Civils: 1\n",
      "Star: 1\n",
      "Nobody: 1\n",
      "Adrien: 1\n"
     ]
    }
   ],
   "source": [
    "count_elements(sus)"
   ]
  },
  {
   "attachments": {},
   "cell_type": "markdown",
   "metadata": {},
   "source": [
    "so off the bat we are getting lots of references to a Sanjorge, this is a likely first victim based on the context, so we're going to make a note to lookout for this person."
   ]
  },
  {
   "attachments": {},
   "cell_type": "markdown",
   "metadata": {},
   "source": [
    "### second pass\n",
    "\n",
    "kidnapping can also mean missing, so lets do a scan looking for missing as our keyword as well. might turn up a few other clues."
   ]
  },
  {
   "cell_type": "code",
   "execution_count": 29,
   "metadata": {},
   "outputs": [
    {
     "name": "stdout",
     "output_type": "stream",
     "text": [
      "Found missing and name 'Haneson Ngohebo' in document: C:/Users/andyt/PycharmProjects/classworker_General/The_Last_Stand/TP-1_Kronos/articles\\139.txt\n",
      "Found missing and name 'Sanjorge' in document: C:/Users/andyt/PycharmProjects/classworker_General/The_Last_Stand/TP-1_Kronos/articles\\167.txt\n",
      "Found missing and name 'John Rathburn' in document: C:/Users/andyt/PycharmProjects/classworker_General/The_Last_Stand/TP-1_Kronos/articles\\167.txt\n",
      "Found missing and name 'Miriam Avila' in document: C:/Users/andyt/PycharmProjects/classworker_General/The_Last_Stand/TP-1_Kronos/articles\\170.txt\n",
      "Found missing and name 'Avila' in document: C:/Users/andyt/PycharmProjects/classworker_General/The_Last_Stand/TP-1_Kronos/articles\\170.txt\n",
      "Found missing and name 'Avila' in document: C:/Users/andyt/PycharmProjects/classworker_General/The_Last_Stand/TP-1_Kronos/articles\\170.txt\n",
      "Found missing and name 'Haneson Ngohebo' in document: C:/Users/andyt/PycharmProjects/classworker_General/The_Last_Stand/TP-1_Kronos/articles\\212.txt\n",
      "Found missing and name 'Willem' in document: C:/Users/andyt/PycharmProjects/classworker_General/The_Last_Stand/TP-1_Kronos/articles\\245.txt\n",
      "Found missing and name 'Sanjorge' in document: C:/Users/andyt/PycharmProjects/classworker_General/The_Last_Stand/TP-1_Kronos/articles\\245.txt\n",
      "Found missing and name 'John Rathburn' in document: C:/Users/andyt/PycharmProjects/classworker_General/The_Last_Stand/TP-1_Kronos/articles\\245.txt\n",
      "Found missing and name 'Asterian' in document: C:/Users/andyt/PycharmProjects/classworker_General/The_Last_Stand/TP-1_Kronos/articles\\245.txt\n",
      "Found missing and name 'Tethan' in document: C:/Users/andyt/PycharmProjects/classworker_General/The_Last_Stand/TP-1_Kronos/articles\\245.txt\n",
      "Found missing and name 'Haneson Ngohebo' in document: C:/Users/andyt/PycharmProjects/classworker_General/The_Last_Stand/TP-1_Kronos/articles\\250.txt\n",
      "Found missing and name 'Adrien Carman' in document: C:/Users/andyt/PycharmProjects/classworker_General/The_Last_Stand/TP-1_Kronos/articles\\276.txt\n",
      "Found missing and name 'Maha Salo' in document: C:/Users/andyt/PycharmProjects/classworker_General/The_Last_Stand/TP-1_Kronos/articles\\313.txt\n",
      "Found missing and name 'Tethan' in document: C:/Users/andyt/PycharmProjects/classworker_General/The_Last_Stand/TP-1_Kronos/articles\\326.txt\n",
      "Found missing and name 'Edvard Vann' in document: C:/Users/andyt/PycharmProjects/classworker_General/The_Last_Stand/TP-1_Kronos/articles\\326.txt\n",
      "Found missing and name 'Abila Fire' in document: C:/Users/andyt/PycharmProjects/classworker_General/The_Last_Stand/TP-1_Kronos/articles\\326.txt\n",
      "Found missing and name 'Haneson Ngohebo' in document: C:/Users/andyt/PycharmProjects/classworker_General/The_Last_Stand/TP-1_Kronos/articles\\450.txt\n",
      "Found missing and name 'Orhan Strum' in document: C:/Users/andyt/PycharmProjects/classworker_General/The_Last_Stand/TP-1_Kronos/articles\\450.txt\n",
      "Found missing and name 'Mr. Strum' in document: C:/Users/andyt/PycharmProjects/classworker_General/The_Last_Stand/TP-1_Kronos/articles\\450.txt\n",
      "Found missing and name 'Linda Lagos' in document: C:/Users/andyt/PycharmProjects/classworker_General/The_Last_Stand/TP-1_Kronos/articles\\450.txt\n",
      "Found missing and name 'Mr. Strum' in document: C:/Users/andyt/PycharmProjects/classworker_General/The_Last_Stand/TP-1_Kronos/articles\\450.txt\n",
      "Found missing and name 'Uneasy' in document: C:/Users/andyt/PycharmProjects/classworker_General/The_Last_Stand/TP-1_Kronos/articles\\450.txt\n",
      "Found missing and name 'Lagos' in document: C:/Users/andyt/PycharmProjects/classworker_General/The_Last_Stand/TP-1_Kronos/articles\\450.txt\n",
      "Found missing and name 'Orhan Strum' in document: C:/Users/andyt/PycharmProjects/classworker_General/The_Last_Stand/TP-1_Kronos/articles\\450.txt\n",
      "Found missing and name 'Maha Salo' in document: C:/Users/andyt/PycharmProjects/classworker_General/The_Last_Stand/TP-1_Kronos/articles\\522.txt\n",
      "Found missing and name 'Haneson Ngohebo' in document: C:/Users/andyt/PycharmProjects/classworker_General/The_Last_Stand/TP-1_Kronos/articles\\525.txt\n",
      "Found missing and name 'Miriam Avila' in document: C:/Users/andyt/PycharmProjects/classworker_General/The_Last_Stand/TP-1_Kronos/articles\\525.txt\n",
      "Found missing and name 'Avila' in document: C:/Users/andyt/PycharmProjects/classworker_General/The_Last_Stand/TP-1_Kronos/articles\\525.txt\n",
      "Found missing and name 'Sten Sanjorge' in document: C:/Users/andyt/PycharmProjects/classworker_General/The_Last_Stand/TP-1_Kronos/articles\\525.txt\n",
      "Found missing and name 'Willem' in document: C:/Users/andyt/PycharmProjects/classworker_General/The_Last_Stand/TP-1_Kronos/articles\\525.txt\n",
      "Found missing and name 'Avila' in document: C:/Users/andyt/PycharmProjects/classworker_General/The_Last_Stand/TP-1_Kronos/articles\\525.txt\n",
      "Found missing and name 'Haneson Ngohebo' in document: C:/Users/andyt/PycharmProjects/classworker_General/The_Last_Stand/TP-1_Kronos/articles\\53.txt\n",
      "Found missing and name 'Haneson Ngohebo' in document: C:/Users/andyt/PycharmProjects/classworker_General/The_Last_Stand/TP-1_Kronos/articles\\555.txt\n",
      "Found missing and name 'Maha Salo' in document: C:/Users/andyt/PycharmProjects/classworker_General/The_Last_Stand/TP-1_Kronos/articles\\556.txt\n",
      "Found missing and name 'Maha Salo' in document: C:/Users/andyt/PycharmProjects/classworker_General/The_Last_Stand/TP-1_Kronos/articles\\567.txt\n",
      "Found missing and name 'Maha Salo' in document: C:/Users/andyt/PycharmProjects/classworker_General/The_Last_Stand/TP-1_Kronos/articles\\583.txt\n",
      "Found missing and name 'Spokesman Adrien Carman' in document: C:/Users/andyt/PycharmProjects/classworker_General/The_Last_Stand/TP-1_Kronos/articles\\599.txt\n",
      "Found missing and name 'Miriam Avila' in document: C:/Users/andyt/PycharmProjects/classworker_General/The_Last_Stand/TP-1_Kronos/articles\\63.txt\n",
      "Found missing and name 'Haneson Ngohebo' in document: C:/Users/andyt/PycharmProjects/classworker_General/The_Last_Stand/TP-1_Kronos/articles\\654.txt\n",
      "Found missing and name 'Centrum' in document: C:/Users/andyt/PycharmProjects/classworker_General/The_Last_Stand/TP-1_Kronos/articles\\654.txt\n",
      "Found missing and name 'Elodis' in document: C:/Users/andyt/PycharmProjects/classworker_General/The_Last_Stand/TP-1_Kronos/articles\\663.txt\n",
      "Found missing and name 'Tethan' in document: C:/Users/andyt/PycharmProjects/classworker_General/The_Last_Stand/TP-1_Kronos/articles\\673.txt\n",
      "Found missing and name 'Edvard Vann' in document: C:/Users/andyt/PycharmProjects/classworker_General/The_Last_Stand/TP-1_Kronos/articles\\673.txt\n",
      "Found missing and name 'Abila Fire' in document: C:/Users/andyt/PycharmProjects/classworker_General/The_Last_Stand/TP-1_Kronos/articles\\673.txt\n",
      "Found missing and name 'Haneson Ngohebo' in document: C:/Users/andyt/PycharmProjects/classworker_General/The_Last_Stand/TP-1_Kronos/articles\\682.txt\n",
      "Found missing and name 'Star' in document: C:/Users/andyt/PycharmProjects/classworker_General/The_Last_Stand/TP-1_Kronos/articles\\693.txt\n",
      "Found missing and name 'Adrien Carman' in document: C:/Users/andyt/PycharmProjects/classworker_General/The_Last_Stand/TP-1_Kronos/articles\\693.txt\n",
      "Found missing and name 'Edvard Vann' in document: C:/Users/andyt/PycharmProjects/classworker_General/The_Last_Stand/TP-1_Kronos/articles\\7.txt\n",
      "Found missing and name 'Haneson Ngohebo' in document: C:/Users/andyt/PycharmProjects/classworker_General/The_Last_Stand/TP-1_Kronos/articles\\713.txt\n",
      "Found missing and name 'Miriam Avila' in document: C:/Users/andyt/PycharmProjects/classworker_General/The_Last_Stand/TP-1_Kronos/articles\\713.txt\n",
      "Found missing and name 'Avila' in document: C:/Users/andyt/PycharmProjects/classworker_General/The_Last_Stand/TP-1_Kronos/articles\\713.txt\n",
      "Found missing and name 'Sten Sanjorge' in document: C:/Users/andyt/PycharmProjects/classworker_General/The_Last_Stand/TP-1_Kronos/articles\\713.txt\n",
      "Found missing and name 'Mr. Sanjorge' in document: C:/Users/andyt/PycharmProjects/classworker_General/The_Last_Stand/TP-1_Kronos/articles\\713.txt\n",
      "Found missing and name 'Maha Salo' in document: C:/Users/andyt/PycharmProjects/classworker_General/The_Last_Stand/TP-1_Kronos/articles\\719.txt\n",
      "Found missing and name 'Maha Salo' in document: C:/Users/andyt/PycharmProjects/classworker_General/The_Last_Stand/TP-1_Kronos/articles\\738.txt\n",
      "Found missing and name 'Rossini' in document: C:/Users/andyt/PycharmProjects/classworker_General/The_Last_Stand/TP-1_Kronos/articles\\776.txt\n",
      "Found missing and name 'Marcella Trapani' in document: C:/Users/andyt/PycharmProjects/classworker_General/The_Last_Stand/TP-1_Kronos/articles\\776.txt\n",
      "Found missing and name 'Adrien Carman' in document: C:/Users/andyt/PycharmProjects/classworker_General/The_Last_Stand/TP-1_Kronos/articles\\776.txt\n",
      "Found missing and name 'Carman' in document: C:/Users/andyt/PycharmProjects/classworker_General/The_Last_Stand/TP-1_Kronos/articles\\776.txt\n",
      "Found missing and name 'John Rathburn' in document: C:/Users/andyt/PycharmProjects/classworker_General/The_Last_Stand/TP-1_Kronos/articles\\787.txt\n",
      "Found missing and name 'Edvard Vann' in document: C:/Users/andyt/PycharmProjects/classworker_General/The_Last_Stand/TP-1_Kronos/articles\\818.txt\n",
      "Found missing and name 'Abila Kronos' in document: C:/Users/andyt/PycharmProjects/classworker_General/The_Last_Stand/TP-1_Kronos/articles\\818.txt\n",
      "Found missing and name 'Rossini' in document: C:/Users/andyt/PycharmProjects/classworker_General/The_Last_Stand/TP-1_Kronos/articles\\85.txt\n",
      "Found missing and name 'Marcella Trapani' in document: C:/Users/andyt/PycharmProjects/classworker_General/The_Last_Stand/TP-1_Kronos/articles\\85.txt\n",
      "Found missing and name 'Carman' in document: C:/Users/andyt/PycharmProjects/classworker_General/The_Last_Stand/TP-1_Kronos/articles\\85.txt\n"
     ]
    }
   ],
   "source": [
    "try: \n",
    "    folder_path = \"C:/Users/Andy/PycharmProjects/pythonProject/The_Last_Stand/TP-1_Kronos/articles\"\n",
    "    mis = search_for_terms(folder_path, [\"missing\", \"name\"], stop_words)\n",
    "except: \n",
    "    folder_path = \"C:/Users/andyt/PycharmProjects/classworker_General/The_Last_Stand/TP-1_Kronos/articles\"\n",
    "    mis = search_for_terms(folder_path, [\"missing\", \"name\"], stop_words)\n",
    "    "
   ]
  },
  {
   "cell_type": "code",
   "execution_count": 30,
   "metadata": {},
   "outputs": [
    {
     "name": "stdout",
     "output_type": "stream",
     "text": [
      "Haneson Ngohebo: 10\n",
      "Maha Salo: 7\n",
      "Avila: 5\n",
      "Miriam Avila: 4\n",
      "Edvard Vann: 4\n",
      "John Rathburn: 3\n",
      "Tethan: 3\n",
      "Adrien Carman: 3\n",
      "Sanjorge: 2\n",
      "Willem: 2\n",
      "Abila Fire: 2\n",
      "Orhan Strum: 2\n",
      "Mr. Strum: 2\n",
      "Sten Sanjorge: 2\n",
      "Rossini: 2\n",
      "Marcella Trapani: 2\n",
      "Carman: 2\n",
      "Asterian: 1\n",
      "Linda Lagos: 1\n",
      "Uneasy: 1\n",
      "Lagos: 1\n",
      "Spokesman Adrien Carman: 1\n",
      "Centrum: 1\n",
      "Elodis: 1\n",
      "Star: 1\n",
      "Mr. Sanjorge: 1\n",
      "Abila Kronos: 1\n"
     ]
    }
   ],
   "source": [
    "count_elements(mis)"
   ]
  },
  {
   "attachments": {},
   "cell_type": "markdown",
   "metadata": {},
   "source": [
    "less interesting information, but at this point we started clicking around on the articles that looked interesting, particularly with regard to mentions of Sanjorge as he seems highly likely to be a victim and reading more might provide us with a lay of the land. in doing so, we identified article 460, elements reproduced below:\n",
    "\n",
    "> Fourteen employees feared kidnapped in Kronos for radical an environmental group of the terrorist during a corporative meeting. \n",
    "\n",
    "> They fear fourteen employees, including possibly to five executive officials, kidnapped yesterday by the \"protectors of Kronos\".  The disclosed disappear include: President and CEO Sten Sanjorge Jr, CFO Ingrid Precipice, Field-Corrente of Ada of I BACK WATER, rasgueo of Orhan de GAStech of the COO, and environmental official Willem Basoue-Country.\n",
    "\n",
    "> The local organizations of the news have received a note of the rescue of the responsibility that she demanded and to demand of POK $20 million of the company.  It is possible additional demands is next.\n",
    "\n",
    "so that's pretty much a wrap, we cross referenced the names of the high ranking GASTech officials kidnapped and found that they're all pretty much the highest ranking people at the company.\n",
    "\n",
    "now its time to determine who might be connected to their disappearance\n"
   ]
  }
 ],
 "metadata": {
  "kernelspec": {
   "display_name": "Python 3",
   "language": "python",
   "name": "python3"
  },
  "language_info": {
   "codemirror_mode": {
    "name": "ipython",
    "version": 3
   },
   "file_extension": ".py",
   "mimetype": "text/x-python",
   "name": "python",
   "nbconvert_exporter": "python",
   "pygments_lexer": "ipython3",
   "version": "3.9.2"
  },
  "orig_nbformat": 4,
  "vscode": {
   "interpreter": {
    "hash": "d351effdbe5302963e94252609244f520714676145fe8b66472a5708f616e863"
   }
  }
 },
 "nbformat": 4,
 "nbformat_minor": 2
}
